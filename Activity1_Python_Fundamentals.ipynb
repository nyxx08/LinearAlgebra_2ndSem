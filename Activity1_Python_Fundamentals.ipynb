{
  "nbformat": 4,
  "nbformat_minor": 0,
  "metadata": {
    "colab": {
      "name": "Activity1- Python Fundamentals",
      "provenance": [],
      "include_colab_link": true
    },
    "kernelspec": {
      "name": "python3",
      "display_name": "Python 3"
    },
    "language_info": {
      "name": "python"
    }
  },
  "cells": [
    {
      "cell_type": "markdown",
      "metadata": {
        "id": "view-in-github",
        "colab_type": "text"
      },
      "source": [
        "<a href=\"https://colab.research.google.com/github/nyxx08/LinearAlgebra_2ndSem/blob/main/Activity1_Python_Fundamentals.ipynb\" target=\"_parent\"><img src=\"https://colab.research.google.com/assets/colab-badge.svg\" alt=\"Open In Colab\"/></a>"
      ]
    },
    {
      "cell_type": "markdown",
      "source": [
        "# Welcome to Python Fundamentals\n",
        "In this module, we are going to establish or review our skills in Python programming. In this notebook we are going to cover:\n",
        "* Variables and Data Types \n",
        "* Operations\n",
        "* Input and Output Operations\n",
        "* Logic Control\n",
        "* Iterables\n",
        "* Functions"
      ],
      "metadata": {
        "id": "bRTrdTMju7aV"
      }
    },
    {
      "cell_type": "markdown",
      "source": [
        "## Variable and Data Types"
      ],
      "metadata": {
        "id": "lQt6i2f2u99c"
      }
    },
    {
      "cell_type": "code",
      "source": [
        "x=1\n",
        "m,j= 2,7\n",
        "j"
      ],
      "metadata": {
        "colab": {
          "base_uri": "https://localhost:8080/"
        },
        "id": "9tUMeLSzvCMa",
        "outputId": "7739e550-ca27-499d-cfff-e2ab9253fd50"
      },
      "execution_count": null,
      "outputs": [
        {
          "output_type": "execute_result",
          "data": {
            "text/plain": [
              "7"
            ]
          },
          "metadata": {},
          "execution_count": 6
        }
      ]
    },
    {
      "cell_type": "code",
      "source": [
        "type (x)"
      ],
      "metadata": {
        "colab": {
          "base_uri": "https://localhost:8080/"
        },
        "id": "Zp2lwbWNvQkg",
        "outputId": "0b8cbfa7-3337-4433-8fbd-e29b89247e2a"
      },
      "execution_count": null,
      "outputs": [
        {
          "output_type": "execute_result",
          "data": {
            "text/plain": [
              "int"
            ]
          },
          "metadata": {},
          "execution_count": 5
        }
      ]
    },
    {
      "cell_type": "code",
      "source": [
        "y=1.0\n",
        "type (y)"
      ],
      "metadata": {
        "colab": {
          "base_uri": "https://localhost:8080/"
        },
        "id": "Zhh1pv2XvqnV",
        "outputId": "ae938cb0-31af-4cf9-a6b8-03c48d4f3c29"
      },
      "execution_count": null,
      "outputs": [
        {
          "output_type": "execute_result",
          "data": {
            "text/plain": [
              "float"
            ]
          },
          "metadata": {},
          "execution_count": 8
        }
      ]
    },
    {
      "cell_type": "code",
      "source": [
        "x= float (x)\n",
        "type (x)"
      ],
      "metadata": {
        "colab": {
          "base_uri": "https://localhost:8080/"
        },
        "id": "3dQs3E9RwFd8",
        "outputId": "e369af0d-34ed-4905-effc-9e09ce6fa86a"
      },
      "execution_count": null,
      "outputs": [
        {
          "output_type": "execute_result",
          "data": {
            "text/plain": [
              "float"
            ]
          },
          "metadata": {},
          "execution_count": 10
        }
      ]
    },
    {
      "cell_type": "code",
      "source": [
        "s,t,u = \"0\" , '1','one'\n",
        "type (t)"
      ],
      "metadata": {
        "colab": {
          "base_uri": "https://localhost:8080/"
        },
        "id": "kZbEK05BwuGR",
        "outputId": "0fc7a9bf-66d6-4d25-d66b-1673088e038d"
      },
      "execution_count": null,
      "outputs": [
        {
          "output_type": "execute_result",
          "data": {
            "text/plain": [
              "str"
            ]
          },
          "metadata": {},
          "execution_count": 12
        }
      ]
    },
    {
      "cell_type": "code",
      "source": [
        "t_int= int (t)\n",
        "t_int"
      ],
      "metadata": {
        "colab": {
          "base_uri": "https://localhost:8080/"
        },
        "id": "oVOCG-JvxOOW",
        "outputId": "1e346ed9-c6b3-4b4d-c347-722dc3e1bddf"
      },
      "execution_count": null,
      "outputs": [
        {
          "output_type": "execute_result",
          "data": {
            "text/plain": [
              "1"
            ]
          },
          "metadata": {},
          "execution_count": 14
        }
      ]
    },
    {
      "cell_type": "code",
      "source": [
        "t_int= int (t)\n",
        "type (t)"
      ],
      "metadata": {
        "colab": {
          "base_uri": "https://localhost:8080/"
        },
        "id": "iZ-9jVAMxrFL",
        "outputId": "e4d37bd3-c5a8-4e7f-854e-e54d2f28e662"
      },
      "execution_count": null,
      "outputs": [
        {
          "output_type": "execute_result",
          "data": {
            "text/plain": [
              "str"
            ]
          },
          "metadata": {},
          "execution_count": 15
        }
      ]
    },
    {
      "cell_type": "markdown",
      "source": [
        "## Operations"
      ],
      "metadata": {
        "id": "g5vzthESyH5Y"
      }
    },
    {
      "cell_type": "markdown",
      "source": [
        "### Arithmetic"
      ],
      "metadata": {
        "id": "W2uj0ysoyOVb"
      }
    },
    {
      "cell_type": "code",
      "source": [
        "a,b,c,d= 3.0,-0.5,0,-32"
      ],
      "metadata": {
        "id": "lZiVxZV5yQ7s"
      },
      "execution_count": null,
      "outputs": []
    },
    {
      "cell_type": "code",
      "source": [
        "### Addition\n",
        "S= a+b\n",
        "S"
      ],
      "metadata": {
        "colab": {
          "base_uri": "https://localhost:8080/"
        },
        "id": "-NuzR3a0zJMR",
        "outputId": "8d219b70-7633-4d22-ee44-2a13edd2701c"
      },
      "execution_count": null,
      "outputs": [
        {
          "output_type": "execute_result",
          "data": {
            "text/plain": [
              "1.5"
            ]
          },
          "metadata": {},
          "execution_count": 21
        }
      ]
    },
    {
      "cell_type": "code",
      "source": [
        "### Subtraction\n",
        "D= b-d\n",
        "D"
      ],
      "metadata": {
        "colab": {
          "base_uri": "https://localhost:8080/"
        },
        "id": "cZsRQYS-zZkK",
        "outputId": "beeb08dc-b11b-4723-ed93-947a0df19a81"
      },
      "execution_count": null,
      "outputs": [
        {
          "output_type": "execute_result",
          "data": {
            "text/plain": [
              "-32.5"
            ]
          },
          "metadata": {},
          "execution_count": 23
        }
      ]
    },
    {
      "cell_type": "code",
      "source": [
        "### Multiplication\n",
        "M= a*d\n",
        "M"
      ],
      "metadata": {
        "colab": {
          "base_uri": "https://localhost:8080/"
        },
        "id": "6DSdAcm4zqXp",
        "outputId": "00d8be31-b60f-4e35-dade-054fb7b67a3b"
      },
      "execution_count": null,
      "outputs": [
        {
          "output_type": "execute_result",
          "data": {
            "text/plain": [
              "64.0"
            ]
          },
          "metadata": {},
          "execution_count": 25
        }
      ]
    },
    {
      "cell_type": "code",
      "source": [
        "### Division\n",
        "D= a/d\n",
        "D"
      ],
      "metadata": {
        "colab": {
          "base_uri": "https://localhost:8080/"
        },
        "id": "RXDNLogWzyvR",
        "outputId": "7baf4825-6a0a-4a26-9a0f-5efac2a5ce95"
      },
      "execution_count": null,
      "outputs": [
        {
          "output_type": "execute_result",
          "data": {
            "text/plain": [
              "0.0625"
            ]
          },
          "metadata": {},
          "execution_count": 26
        }
      ]
    },
    {
      "cell_type": "code",
      "source": [
        "### Floor Division\n",
        "Fq = a//b\n",
        "Fq"
      ],
      "metadata": {
        "colab": {
          "base_uri": "https://localhost:8080/"
        },
        "id": "PLMRQgcdz59s",
        "outputId": "46cb1e8b-c239-44cd-f162-90253245663f"
      },
      "execution_count": null,
      "outputs": [
        {
          "output_type": "execute_result",
          "data": {
            "text/plain": [
              "-3.0"
            ]
          },
          "metadata": {},
          "execution_count": 33
        }
      ]
    },
    {
      "cell_type": "code",
      "source": [
        "### Exponentiation\n",
        "E = a**b\n",
        "E"
      ],
      "metadata": {
        "colab": {
          "base_uri": "https://localhost:8080/"
        },
        "id": "Nti92_mo0mNa",
        "outputId": "b1e30799-fce2-4b22-c6d2-3e415078be9a"
      },
      "execution_count": null,
      "outputs": [
        {
          "output_type": "execute_result",
          "data": {
            "text/plain": [
              "0.7071067811865476"
            ]
          },
          "metadata": {},
          "execution_count": 35
        }
      ]
    },
    {
      "cell_type": "code",
      "source": [
        "### Modulo\n",
        "Mod = d%a\n",
        "Mod"
      ],
      "metadata": {
        "colab": {
          "base_uri": "https://localhost:8080/"
        },
        "id": "6KAwkDW81A52",
        "outputId": "336ff96e-2836-401c-da5b-f5ca3689fe72"
      },
      "execution_count": null,
      "outputs": [
        {
          "output_type": "execute_result",
          "data": {
            "text/plain": [
              "1.0"
            ]
          },
          "metadata": {},
          "execution_count": 39
        }
      ]
    },
    {
      "cell_type": "markdown",
      "source": [
        "### Assignment Operations"
      ],
      "metadata": {
        "id": "0pWNHt6z1jwP"
      }
    },
    {
      "cell_type": "code",
      "source": [
        "G, H, J, K = 0, 100, 2, 2"
      ],
      "metadata": {
        "id": "xSlWkDs11EWd"
      },
      "execution_count": null,
      "outputs": []
    },
    {
      "cell_type": "code",
      "source": [
        "G += a\n",
        "G"
      ],
      "metadata": {
        "colab": {
          "base_uri": "https://localhost:8080/"
        },
        "id": "sRNoNRcX19x1",
        "outputId": "bfe68b90-ade7-4a9e-dd61-39013a7a9462"
      },
      "execution_count": null,
      "outputs": [
        {
          "output_type": "execute_result",
          "data": {
            "text/plain": [
              "6.0"
            ]
          },
          "metadata": {},
          "execution_count": 44
        }
      ]
    },
    {
      "cell_type": "code",
      "source": [
        "H -= d\n",
        "H"
      ],
      "metadata": {
        "colab": {
          "base_uri": "https://localhost:8080/"
        },
        "id": "rIzZ7pXm2deb",
        "outputId": "2dd28278-7161-4d30-b226-1f0c7cb7daf9"
      },
      "execution_count": null,
      "outputs": [
        {
          "output_type": "execute_result",
          "data": {
            "text/plain": [
              "132"
            ]
          },
          "metadata": {},
          "execution_count": 43
        }
      ]
    },
    {
      "cell_type": "code",
      "source": [
        "J *= 2\n",
        "J"
      ],
      "metadata": {
        "colab": {
          "base_uri": "https://localhost:8080/"
        },
        "id": "040BNcSJ3BUK",
        "outputId": "f2e042a1-dd4e-49a8-fc29-1aa026d8a030"
      },
      "execution_count": null,
      "outputs": [
        {
          "output_type": "execute_result",
          "data": {
            "text/plain": [
              "8"
            ]
          },
          "metadata": {},
          "execution_count": 46
        }
      ]
    },
    {
      "cell_type": "code",
      "source": [
        "K **= 2\n",
        "K"
      ],
      "metadata": {
        "colab": {
          "base_uri": "https://localhost:8080/"
        },
        "id": "RQbZ_Tg93L1x",
        "outputId": "a4f7d00b-5772-426f-ef9e-defa39c00c98"
      },
      "execution_count": null,
      "outputs": [
        {
          "output_type": "execute_result",
          "data": {
            "text/plain": [
              "256"
            ]
          },
          "metadata": {},
          "execution_count": 49
        }
      ]
    },
    {
      "cell_type": "markdown",
      "source": [
        "### Comparators"
      ],
      "metadata": {
        "id": "9_LaVVSH3a05"
      }
    },
    {
      "cell_type": "code",
      "source": [
        "res_1, res_2, res_3 = 1 , 2.0,\"1\"\n",
        "true_val= 1.0"
      ],
      "metadata": {
        "id": "zpyyOoPQ3ecH"
      },
      "execution_count": null,
      "outputs": []
    },
    {
      "cell_type": "code",
      "source": [
        "## Equality\n",
        "res_2 == true_val"
      ],
      "metadata": {
        "colab": {
          "base_uri": "https://localhost:8080/"
        },
        "id": "ck2_e3zb4FoK",
        "outputId": "34befc5d-7a3d-46b6-ee9c-e8bf42006332"
      },
      "execution_count": null,
      "outputs": [
        {
          "output_type": "execute_result",
          "data": {
            "text/plain": [
              "False"
            ]
          },
          "metadata": {},
          "execution_count": 53
        }
      ]
    },
    {
      "cell_type": "code",
      "source": [
        "## Non- Equality\n",
        "res_2 != true_val"
      ],
      "metadata": {
        "colab": {
          "base_uri": "https://localhost:8080/"
        },
        "id": "HaAHfenD4QAq",
        "outputId": "d7727382-b151-4275-8c2b-93fea9ec2f83"
      },
      "execution_count": null,
      "outputs": [
        {
          "output_type": "execute_result",
          "data": {
            "text/plain": [
              "True"
            ]
          },
          "metadata": {},
          "execution_count": 54
        }
      ]
    },
    {
      "cell_type": "code",
      "source": [
        "## Inequality\n",
        "t1 = res_1 > res_2\n",
        "t2 = res_1 < res_2/2\n",
        "t3 = res_1 >= res_2/2\n",
        "t4 = res_1 <= res_2\n",
        "t4"
      ],
      "metadata": {
        "colab": {
          "base_uri": "https://localhost:8080/"
        },
        "id": "KamctIcy4YnK",
        "outputId": "5cc3c8fd-c714-4392-d586-967011e037bd"
      },
      "execution_count": null,
      "outputs": [
        {
          "output_type": "execute_result",
          "data": {
            "text/plain": [
              "True"
            ]
          },
          "metadata": {},
          "execution_count": 58
        }
      ]
    },
    {
      "cell_type": "markdown",
      "source": [
        "### Logical"
      ],
      "metadata": {
        "id": "xZLWzSSt6UId"
      }
    },
    {
      "cell_type": "code",
      "source": [
        "res_1 == true_val\n"
      ],
      "metadata": {
        "colab": {
          "base_uri": "https://localhost:8080/"
        },
        "id": "yPb5Oss56WQf",
        "outputId": "ae075c8c-db7c-46d0-8332-2d5820eecf96"
      },
      "execution_count": null,
      "outputs": [
        {
          "output_type": "execute_result",
          "data": {
            "text/plain": [
              "False"
            ]
          },
          "metadata": {},
          "execution_count": 62
        }
      ]
    },
    {
      "cell_type": "code",
      "source": [
        "res_1 is true_val"
      ],
      "metadata": {
        "colab": {
          "base_uri": "https://localhost:8080/"
        },
        "id": "Y4DyZ1RH46hE",
        "outputId": "e3704ce5-fc03-4494-e7dd-708541f6af7f"
      },
      "execution_count": null,
      "outputs": [
        {
          "output_type": "execute_result",
          "data": {
            "text/plain": [
              "False"
            ]
          },
          "metadata": {},
          "execution_count": 63
        }
      ]
    },
    {
      "cell_type": "code",
      "source": [
        "res_1 is not true_val"
      ],
      "metadata": {
        "colab": {
          "base_uri": "https://localhost:8080/"
        },
        "id": "W59jDn2C681o",
        "outputId": "d4151df9-1dd1-4a0c-b77c-b3156a72601e"
      },
      "execution_count": null,
      "outputs": [
        {
          "output_type": "execute_result",
          "data": {
            "text/plain": [
              "True"
            ]
          },
          "metadata": {},
          "execution_count": 64
        }
      ]
    },
    {
      "cell_type": "code",
      "source": [
        "p,q = True, False\n",
        "conj= p and q\n",
        "conj\n"
      ],
      "metadata": {
        "colab": {
          "base_uri": "https://localhost:8080/"
        },
        "id": "PHDQqm217TBU",
        "outputId": "a4292d55-a251-451a-c06a-2d8c0c62b06d"
      },
      "execution_count": null,
      "outputs": [
        {
          "output_type": "execute_result",
          "data": {
            "text/plain": [
              "False"
            ]
          },
          "metadata": {},
          "execution_count": 65
        }
      ]
    },
    {
      "cell_type": "code",
      "source": [
        "p,q = True, False\n",
        "disj= p or q\n",
        "disj\n"
      ],
      "metadata": {
        "colab": {
          "base_uri": "https://localhost:8080/"
        },
        "id": "mUoTq1sQ7ei9",
        "outputId": "803b5338-d568-40ad-ac1b-08f51979e5f5"
      },
      "execution_count": null,
      "outputs": [
        {
          "output_type": "execute_result",
          "data": {
            "text/plain": [
              "True"
            ]
          },
          "metadata": {},
          "execution_count": 67
        }
      ]
    },
    {
      "cell_type": "code",
      "source": [
        "p,q = True, False\n",
        "e = not (q)\n",
        "e"
      ],
      "metadata": {
        "colab": {
          "base_uri": "https://localhost:8080/"
        },
        "id": "6hqkrHVQ7uVV",
        "outputId": "21bfa6a0-cbb0-4d8e-cb98-592a440a9f6a"
      },
      "execution_count": null,
      "outputs": [
        {
          "output_type": "execute_result",
          "data": {
            "text/plain": [
              "True"
            ]
          },
          "metadata": {},
          "execution_count": 68
        }
      ]
    },
    {
      "cell_type": "markdown",
      "source": [
        "## I/O"
      ],
      "metadata": {
        "id": "HZ85_b2E8KBf"
      }
    },
    {
      "cell_type": "code",
      "source": [
        "print(\"Hello World\")\n"
      ],
      "metadata": {
        "colab": {
          "base_uri": "https://localhost:8080/"
        },
        "id": "pxVlnCFt8g01",
        "outputId": "7912d689-1418-4897-ff25-3050153a86bf"
      },
      "execution_count": null,
      "outputs": [
        {
          "output_type": "stream",
          "name": "stdout",
          "text": [
            "Hello World\n"
          ]
        }
      ]
    },
    {
      "cell_type": "code",
      "source": [
        "cnt=1"
      ],
      "metadata": {
        "id": "e8YYA5eQ9L1R"
      },
      "execution_count": null,
      "outputs": []
    },
    {
      "cell_type": "code",
      "source": [
        "string = \"Hello World\"\n",
        "print(string, \", Current run\")"
      ],
      "metadata": {
        "id": "qm241fbX9Z53"
      },
      "execution_count": null,
      "outputs": []
    },
    {
      "cell_type": "code",
      "source": [
        "sem_grade = 82.24\n",
        "name = \"uge\"\n",
        "print(\"Hello\",name,\",your semestral grade is:\", sem_grade)"
      ],
      "metadata": {
        "colab": {
          "base_uri": "https://localhost:8080/"
        },
        "id": "5uoGbYza9xZr",
        "outputId": "af242cc6-afb0-427c-ea06-d9b3faa73f7a"
      },
      "execution_count": null,
      "outputs": [
        {
          "output_type": "stream",
          "name": "stdout",
          "text": [
            "Hello uge ,your semestral grade is: 82.24\n"
          ]
        }
      ]
    },
    {
      "cell_type": "code",
      "source": [
        "w_pg, w_mg, w_fg = 0.3, 0.3, 0.4\n",
        "print(\"the weights of your semestral grades are:\\\n",
        "\\n\\t{:2%} for Prelims\\\n",
        "\\n\\t{:2%} for Midterms, and\\\n",
        "\\n\\t{:2%} for Finals.\".format(w_pg, w_mg, w_fg))"
      ],
      "metadata": {
        "id": "6Z1kRXy8tyZ3",
        "outputId": "6a2c9558-44cc-453b-8424-c30fa8f0cecd",
        "colab": {
          "base_uri": "https://localhost:8080/"
        }
      },
      "execution_count": null,
      "outputs": [
        {
          "output_type": "stream",
          "name": "stdout",
          "text": [
            "the weights of your semestral grades are:\n",
            "\t30.000000% for Prelims\n",
            "\t30.000000% for Midterms, and\n",
            "\t40.000000% for Finals.\n"
          ]
        }
      ]
    },
    {
      "cell_type": "code",
      "source": [
        "x=input(\"enter a number:\" )\n",
        "x"
      ],
      "metadata": {
        "id": "I0WH37LiuuMy",
        "outputId": "19df710c-749b-44a7-e9fe-2a257510bc7e",
        "colab": {
          "base_uri": "https://localhost:8080/",
          "height": 52
        }
      },
      "execution_count": null,
      "outputs": [
        {
          "name": "stdout",
          "output_type": "stream",
          "text": [
            "enter a number:34\n"
          ]
        },
        {
          "output_type": "execute_result",
          "data": {
            "application/vnd.google.colaboratory.intrinsic+json": {
              "type": "string"
            },
            "text/plain": [
              "'34'"
            ]
          },
          "metadata": {},
          "execution_count": 3
        }
      ]
    },
    {
      "cell_type": "code",
      "source": [
        "name = input(\"kimi no nawa:\")\n",
        "pg = input(\"Enter prelim grade:\")\n",
        "mg = input(\"Enter midterm grade:\")\n",
        "mg = input(\"Enter final grade:\")\n",
        "sem_grade = None\n",
        "print(\"Hello {}, your semestral grade is: {}\". format(name, sem_grade))"
      ],
      "metadata": {
        "id": "UhKM2BNEu8hB",
        "outputId": "27b28db2-7ce5-40c0-b369-e529593f816e",
        "colab": {
          "base_uri": "https://localhost:8080/"
        }
      },
      "execution_count": null,
      "outputs": [
        {
          "output_type": "stream",
          "name": "stdout",
          "text": [
            "kimi no nawa:ony\n",
            "Enter prelim grade:75\n",
            "Enter midterm grade:96\n",
            "Enter final grade:99\n",
            "Hello ony, your semestral grade is: None\n"
          ]
        }
      ]
    },
    {
      "cell_type": "markdown",
      "source": [
        "Looping Statements\n"
      ],
      "metadata": {
        "id": "6o8gDxJkwHeO"
      }
    },
    {
      "cell_type": "code",
      "source": [
        "## while loops\n",
        "i, j = 0,10\n",
        "while(i<=j):\n",
        "  print(f\"{i}\\t\\t{j}\")\n",
        "  i+=1"
      ],
      "metadata": {
        "id": "ZtgVXNMtwK1K",
        "outputId": "a3a45f82-c688-4628-f1a3-ae5eee189cac",
        "colab": {
          "base_uri": "https://localhost:8080/"
        }
      },
      "execution_count": null,
      "outputs": [
        {
          "output_type": "stream",
          "name": "stdout",
          "text": [
            "0\t\t10\n",
            "1\t\t10\n",
            "2\t\t10\n",
            "3\t\t10\n",
            "4\t\t10\n",
            "5\t\t10\n",
            "6\t\t10\n",
            "7\t\t10\n",
            "8\t\t10\n",
            "9\t\t10\n",
            "10\t\t10\n"
          ]
        }
      ]
    },
    {
      "cell_type": "markdown",
      "source": [
        "## For"
      ],
      "metadata": {
        "id": "XKoiXRgbz5Nj"
      }
    },
    {
      "cell_type": "code",
      "source": [
        "# for (int i=0: i<10; i++){}\n",
        "# print (i)\n",
        "# }\n",
        "\n",
        "#i=0\n",
        "for i in range (11):\n",
        " print(i)"
      ],
      "metadata": {
        "id": "hFgCkRhNxem4",
        "outputId": "283a2570-3e70-4ac2-c8a8-ca5f721d5346",
        "colab": {
          "base_uri": "https://localhost:8080/"
        }
      },
      "execution_count": null,
      "outputs": [
        {
          "output_type": "stream",
          "name": "stdout",
          "text": [
            "0\n",
            "1\n",
            "2\n",
            "3\n",
            "4\n",
            "5\n",
            "6\n",
            "7\n",
            "8\n",
            "9\n",
            "10\n"
          ]
        }
      ]
    },
    {
      "cell_type": "code",
      "source": [
        "playlist = [\"Crazier\", \"Happier\", \"bahay-Kubo\"]\n",
        "print ('Now playing: \\n')\n",
        "for song in playlist:\n",
        "  print(song)"
      ],
      "metadata": {
        "id": "o2QLbllmyGiY",
        "outputId": "90bfbfc2-2f58-47a0-84d1-335619d19493",
        "colab": {
          "base_uri": "https://localhost:8080/"
        }
      },
      "execution_count": null,
      "outputs": [
        {
          "output_type": "stream",
          "name": "stdout",
          "text": [
            "Now playing: \n",
            "\n",
            "Crazier\n",
            "Happier\n",
            "bahay-Kubo\n"
          ]
        }
      ]
    },
    {
      "cell_type": "markdown",
      "source": [
        "# Flow control"
      ],
      "metadata": {
        "id": "ATOGTqp5ynqk"
      }
    },
    {
      "cell_type": "markdown",
      "source": [
        "## Condition Statements"
      ],
      "metadata": {
        "id": "kPHyJ0siy28I"
      }
    },
    {
      "cell_type": "code",
      "source": [
        "numeral1, numeral2 = 13,13 \n",
        "if(numeral1 == numeral2):\n",
        "  print(\"Yey\")\n",
        "elif(numeral1>numeral2):\n",
        "  print(\"Hoho\")\n",
        "else:\n",
        "  print(\"Aww\")"
      ],
      "metadata": {
        "id": "kX7tYutay5Jl",
        "outputId": "ae2c6adc-ef5f-46b0-f24b-684001fc25b8",
        "colab": {
          "base_uri": "https://localhost:8080/"
        }
      },
      "execution_count": null,
      "outputs": [
        {
          "output_type": "stream",
          "name": "stdout",
          "text": [
            "Yey\n"
          ]
        }
      ]
    },
    {
      "cell_type": "markdown",
      "source": [
        "#Functions\n"
      ],
      "metadata": {
        "id": "T3Lnb9yM1gu_"
      }
    },
    {
      "cell_type": "code",
      "source": [
        "# void DeleteUser (int user id) {\n",
        "# delete (userid);\n",
        "# }\n",
        "\n",
        "def delete_user (userid):\n",
        "    print(\"Successfully deleted user: {}\".format(userid))\n",
        "\n",
        "def delete_allusers ():\n",
        "    print(\"Dedo :(\")\n"
      ],
      "metadata": {
        "id": "YE1GU1T51lby"
      },
      "execution_count": null,
      "outputs": []
    },
    {
      "cell_type": "code",
      "source": [
        "userid = \"nyx\"\n",
        "delete_user(\"nyx\")\n",
        "delete_allusers ()"
      ],
      "metadata": {
        "id": "zRegRsTU1iDU",
        "outputId": "affa1ff1-043d-40b5-8797-8016bc9d938e",
        "colab": {
          "base_uri": "https://localhost:8080/"
        }
      },
      "execution_count": null,
      "outputs": [
        {
          "output_type": "stream",
          "name": "stdout",
          "text": [
            "Successfully deleted user: nyx\n",
            "Dedo :(\n"
          ]
        }
      ]
    },
    {
      "cell_type": "code",
      "source": [
        "def add (addend1, addend2):\n",
        "  return addend1 + addend2\n",
        "\n",
        "def power_of_base_2(exponent):\n",
        "  return 2**exponent"
      ],
      "metadata": {
        "id": "Ag2vkreI3g3J"
      },
      "execution_count": null,
      "outputs": []
    },
    {
      "cell_type": "code",
      "source": [
        "addend1, addend2 = 24, 25\n",
        "add (addend1, addend2)\n",
        "\n",
        "exponent =9\n",
        "power_of_base_2(exponent)"
      ],
      "metadata": {
        "id": "8Zl81TJp3yPL",
        "outputId": "14f76634-abb4-40c9-ab3f-e33f70e33f28",
        "colab": {
          "base_uri": "https://localhost:8080/"
        }
      },
      "execution_count": null,
      "outputs": [
        {
          "output_type": "execute_result",
          "data": {
            "text/plain": [
              "512"
            ]
          },
          "metadata": {},
          "execution_count": 28
        }
      ]
    },
    {
      "cell_type": "code",
      "source": [
        "happy,lol,sad = \"\\U0001F600\" , \"\\U0001F606\" , \"\\U0001F62D\"\n",
        "x = 70"
      ],
      "metadata": {
        "id": "jtp_m6EKz-Ds"
      },
      "execution_count": null,
      "outputs": []
    },
    {
      "cell_type": "code",
      "source": [
        "name = input(\"Enter your Full Name:\")\n",
        "course = input(\"Enter your course:\")\n",
        "pg = float(input(\"Enter your Prelim Grade: \"))\n",
        "mg = float(input(\"Enter your Midterm Grade: \"))\n",
        "fg = float(input(\"enter your Final Grade: \"))\n",
        "sg =(pg*0.3) + (mg*0.3) +(fg*0.4)\n",
        "sem_grade = \"{:.2f}\".format(sg)\n",
        "if(float(sem_grade)>x):\n",
        "  print(\"Hello {}, your semestral grade is: {} {}\". format(name, sem_grade, happy))\n",
        "elif(float(sem_grade)==x):\n",
        "  print(\"Hello {}, your semestral grade is: {} {}\". format(name, sem_grade, lol))\n",
        "elif(float(sem_grade)<x):\n",
        "  print(\"Hello {}, your semestral grade is: {} {}\". format(name, sem_grade, sad))\n"
      ],
      "metadata": {
        "id": "Guct5_mMz_Ci"
      },
      "execution_count": null,
      "outputs": []
    }
  ]
}