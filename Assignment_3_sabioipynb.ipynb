{
  "nbformat": 4,
  "nbformat_minor": 0,
  "metadata": {
    "colab": {
      "name": "Assignment 3-sabioipynb",
      "provenance": [],
      "collapsed_sections": [],
      "include_colab_link": true
    },
    "kernelspec": {
      "name": "python3",
      "display_name": "Python 3"
    },
    "language_info": {
      "name": "python"
    }
  },
  "cells": [
    {
      "cell_type": "markdown",
      "metadata": {
        "id": "view-in-github",
        "colab_type": "text"
      },
      "source": [
        "<a href=\"https://colab.research.google.com/github/nyxx08/LinearAlgebra_2ndSem/blob/main/Assignment_3_sabioipynb.ipynb\" target=\"_parent\"><img src=\"https://colab.research.google.com/assets/colab-badge.svg\" alt=\"Open In Colab\"/></a>"
      ]
    },
    {
      "cell_type": "markdown",
      "source": [
        "# Linear Algebra For ChE\n",
        "## Laboratory 2 Matrices\n"
      ],
      "metadata": {
        "id": "CaQe91Upx_Mt"
      }
    },
    {
      "cell_type": "markdown",
      "source": [
        ""
      ],
      "metadata": {
        "id": "CbXiJH2jRURL"
      }
    },
    {
      "cell_type": "markdown",
      "source": [
        "Now that you have a fundamental knowledge about Python, we'll try to look into greater dimensions."
      ],
      "metadata": {
        "id": "ASJ6-K-TRWQH"
      }
    },
    {
      "cell_type": "markdown",
      "source": [
        "##Objectives\n",
        "At the end of this activity you will be able to:\n",
        "\n",
        "Be familiar with matrices and their relation to linear equations.\n",
        "Perform basic matrix operations.\n",
        "Program and translate matrix equations and operations using Python."
      ],
      "metadata": {
        "id": "4qEoxEPcRaVx"
      }
    },
    {
      "cell_type": "markdown",
      "source": [
        "# Discussion"
      ],
      "metadata": {
        "id": "TwP-5F-5yFRP"
      }
    },
    {
      "cell_type": "code",
      "source": [
        "import numpy as np\n",
        "import matplotlib.pyplot as plt\n",
        "import scipy.linalg as la\n",
        "%matplotlib inline"
      ],
      "metadata": {
        "id": "m7tT2G8fyULc"
      },
      "execution_count": 2,
      "outputs": []
    },
    {
      "cell_type": "markdown",
      "source": [
        "## Matrices\n"
      ],
      "metadata": {
        "id": "bcvyZrk1znTH"
      }
    },
    {
      "cell_type": "markdown",
      "source": [
        "The notation and use of matrices is probably one of the fundamentals of modern computing. Matrices are also handy representations of complex equations or multiple inter-related equations from 2-dimensional equations to even hundreds and thousands of them."
      ],
      "metadata": {
        "id": "VYi2nFFmRow2"
      }
    },
    {
      "cell_type": "markdown",
      "source": [
        ""
      ],
      "metadata": {
        "id": "I1-Gwx35zqkh"
      }
    },
    {
      "cell_type": "markdown",
      "source": [
        "$$\n",
        "A = \\left\\{\n",
        "    \\begin{array}\\\n",
        "        x + y \\\\ \n",
        "        4x - 10y\n",
        "    \\end{array}\n",
        "\\right. \\\\\n",
        "B = \\left\\{\n",
        "    \\begin{array}\\\n",
        "        x+y+z \\\\ \n",
        "        3x -2y -z \\\\\n",
        "        -x + 4y +2z\n",
        "    \\end{array}\n",
        "\\right. \\\\\n",
        "C = \\left\\{\n",
        "    \\begin{array}\\\n",
        "        w-2x+3y-4z \\\\ \n",
        "        3x -2y -z \\\\\n",
        "        -x + 4y +2z\n",
        "    \\end{array}\n",
        "\\right.$$\n",
        "\n"
      ],
      "metadata": {
        "id": "T5_5BDuV0KdG"
      }
    },
    {
      "cell_type": "markdown",
      "source": [
        "We could see that A is a system of 2 equations with 2 parameters. While B  is a system of 3 equations with 3 parameters. We can represent them as matrices as:"
      ],
      "metadata": {
        "id": "pW21cNdpEKA_"
      }
    },
    {
      "cell_type": "markdown",
      "source": [
        ":$$\n",
        "A=\\begin{bmatrix} 1 & 1 \\\\ 4 & {-10}\\end{bmatrix} \\\\\n",
        "B=\\begin{bmatrix} 1 & 1 & 1 \\\\ 3 & -2 & -1 \\\\ -1 & 4 & 2\\end{bmatrix}\\\\\n",
        "C=\\begin{bmatrix} 1 & -2 & 3 & -4 \\\\ 3 & -1 & -2 & 1 \\\\ 2 & -1 & 3 & -2\\end{bmatrix}\n",
        "$$\n"
      ],
      "metadata": {
        "id": "gmlCHcwc1fQx"
      }
    },
    {
      "cell_type": "markdown",
      "source": [
        "$$A=\\begin{bmatrix}\n",
        "a_{(0,0)}&a_{(0,1)}&\\dots&a_{(0,j-1)}\\\\\n",
        "a_{(1,0)}&a_{(1,1)}&\\dots&a_{(1,j-1)}\\\\\n",
        "\\vdots&\\vdots&\\ddots&\\vdots&\\\\\n",
        "a_{(i-1,0)}&a_{(i-1,1)}&\\dots&a_{(i-1,j-1)}\n",
        "\\end{bmatrix}\n",
        "$$\n"
      ],
      "metadata": {
        "id": "bZ9T4hk53sO6"
      }
    },
    {
      "cell_type": "markdown",
      "source": [
        "### Declaring Matrices"
      ],
      "metadata": {
        "id": "m29hgJJrSU0L"
      }
    },
    {
      "cell_type": "markdown",
      "source": [
        "These elements are arranged and ordered in rows and columns which form the list/array-like structure of matrices. And just like arrays, these elements are indexed according to their position with respect to their rows and columns. This can be represented just like the equation below. Whereas  A  is a matrix consisting of elements denoted by  ai,j . Denoted by  i  is the number of rows in the matrix while  j  stands for the number of columns.\n",
        "Do note that the  size  of a matrix is  i×j ."
      ],
      "metadata": {
        "id": "JCkEBgP6Sg2r"
      }
    },
    {
      "cell_type": "code",
      "source": [
        "## Since we'll keep on describing matrices. Let's make a function.\n",
        "def describe_mat(matrix):\n",
        "    print(f'Matrix:\\n{matrix}\\n\\nShape:\\t{matrix.shape}\\nRank:\\t{matrix.ndim}\\n')"
      ],
      "metadata": {
        "id": "zKqvReCp35VR"
      },
      "execution_count": 4,
      "outputs": []
    },
    {
      "cell_type": "code",
      "source": [
        "## Declaring a 2 x 2 matrix\n",
        "A = np.array ([\n",
        "    [1,2],\n",
        "    [3,1]\n",
        "])\n",
        "describe_mat(A)\n"
      ],
      "metadata": {
        "colab": {
          "base_uri": "https://localhost:8080/"
        },
        "id": "u4-_8gOt4p-6",
        "outputId": "5e580cc0-2bab-4839-8977-395682179b85"
      },
      "execution_count": null,
      "outputs": [
        {
          "output_type": "stream",
          "name": "stdout",
          "text": [
            "Matrix:\n",
            "[[1 2]\n",
            " [3 1]]\n",
            "\n",
            "Shape:\t(2, 2)\n",
            "Rank:\t2\n",
            "\n"
          ]
        }
      ]
    },
    {
      "cell_type": "code",
      "source": [
        "#Declaring a 2 x 3 matrix\n",
        "G= np.array([\n",
        "    [1,1,3],\n",
        "    [3,1,4]\n",
        "])\n",
        "describe_mat(A)\n",
        "A.shape"
      ],
      "metadata": {
        "id": "GiCHaD2z6Ss7",
        "colab": {
          "base_uri": "https://localhost:8080/"
        },
        "outputId": "65a59464-5d92-4458-febf-0f868912f14b"
      },
      "execution_count": null,
      "outputs": [
        {
          "output_type": "stream",
          "name": "stdout",
          "text": [
            "Matrix:\n",
            "[[1 2]\n",
            " [3 1]]\n",
            "\n",
            "Shape:\t(2, 2)\n",
            "Rank:\t2\n",
            "\n"
          ]
        },
        {
          "output_type": "execute_result",
          "data": {
            "text/plain": [
              "(2, 2)"
            ]
          },
          "metadata": {},
          "execution_count": 12
        }
      ]
    },
    {
      "cell_type": "code",
      "source": [
        ""
      ],
      "metadata": {
        "id": "lAFNNAeo6uBq"
      },
      "execution_count": null,
      "outputs": []
    },
    {
      "cell_type": "code",
      "source": [
        "H = np.array([1,2,3,4,5])\n",
        "describe_mat(A)\n",
        "A.shape"
      ],
      "metadata": {
        "colab": {
          "base_uri": "https://localhost:8080/"
        },
        "id": "pSgF4o_T6uWD",
        "outputId": "061cf0a2-67c4-498e-dfc1-d38eb14b5834"
      },
      "execution_count": null,
      "outputs": [
        {
          "output_type": "stream",
          "name": "stdout",
          "text": [
            "Matrix:\n",
            "[[1 2]\n",
            " [3 1]]\n",
            "\n",
            "Shape:\t(2, 2)\n",
            "Rank:\t2\n",
            "\n"
          ]
        },
        {
          "output_type": "execute_result",
          "data": {
            "text/plain": [
              "(2, 2)"
            ]
          },
          "metadata": {},
          "execution_count": 13
        }
      ]
    },
    {
      "cell_type": "markdown",
      "source": [
        "## Categorizing Matrices"
      ],
      "metadata": {
        "id": "9X-BQ0tRYf0r"
      }
    },
    {
      "cell_type": "markdown",
      "source": [
        "There are several ways of classifying matrices. Once could be according to their shape and another is according to their element values. We'll try to go through them."
      ],
      "metadata": {
        "id": "Kv-l3zdQYtov"
      }
    },
    {
      "cell_type": "markdown",
      "source": [
        "## According to Shape"
      ],
      "metadata": {
        "id": "lPxp4LERY2PQ"
      }
    },
    {
      "cell_type": "markdown",
      "source": [
        "### Row and Column Matrices"
      ],
      "metadata": {
        "id": "bP6xvlrhY86M"
      }
    },
    {
      "cell_type": "markdown",
      "source": [
        "**Row** and **column** matrices are common in vector and matrix computations. They can also represent row and column spaces of a bigger vector space. Row and column matrices are represented by a single column or single row. So with that being, the shape of row matrices would be $1 \\times j$ and column matrices would be $i \\times 1$."
      ],
      "metadata": {
        "id": "FP9kF13sZGXj"
      }
    },
    {
      "cell_type": "code",
      "source": [
        "rowmatrix1D = np.array ([1,2,3-4\n",
        "])\n",
        "rowmatrix2D = np.array ([1,2,3,-4\n",
        "                        \n",
        "])\n",
        "describe_mat(rowmatrix1D)\n",
        "describe_mat(rowmatrix2D)"
      ],
      "metadata": {
        "colab": {
          "base_uri": "https://localhost:8080/"
        },
        "id": "-DisVSxf7lEd",
        "outputId": "0e9c6a1f-b93d-45b5-8cb6-2a395bfa1f4d"
      },
      "execution_count": null,
      "outputs": [
        {
          "output_type": "stream",
          "name": "stdout",
          "text": [
            "Matrix:\n",
            "[ 1  2 -1]\n",
            "\n",
            "Shape:\t(3,)\n",
            "Rank:\t1\n",
            "Matrix:\n",
            "[ 1  2  3 -4]\n",
            "\n",
            "Shape:\t(4,)\n",
            "Rank:\t1\n"
          ]
        }
      ]
    },
    {
      "cell_type": "code",
      "source": [
        "#Declaring a column matrix\n",
        "colmat = np. array ([\n",
        "                    [1],\n",
        "                    [2],\n",
        "                    [56]\n",
        "                  ])\n",
        "describe_mat(colmat)"
      ],
      "metadata": {
        "colab": {
          "base_uri": "https://localhost:8080/"
        },
        "id": "A0LwowRv9hP5",
        "outputId": "0f8ac9a1-ad91-4695-81d6-8357c1b5029c"
      },
      "execution_count": 6,
      "outputs": [
        {
          "output_type": "stream",
          "name": "stdout",
          "text": [
            "Matrix:\n",
            "[[ 1]\n",
            " [ 2]\n",
            " [56]]\n",
            "\n",
            "Shape:\t(3, 1)\n",
            "Rank:\t2\n",
            "\n"
          ]
        }
      ]
    },
    {
      "cell_type": "markdown",
      "source": [
        "###Square Matrices"
      ],
      "metadata": {
        "id": "SJh5AGv7ZwXI"
      }
    },
    {
      "cell_type": "markdown",
      "source": [
        "Square matrices are that have the same row and column sizes. We could say a matrix is square if i = j. We can tweak our matrix descriptor function to determine square matrices"
      ],
      "metadata": {
        "id": "V89kGY4nZz0D"
      }
    },
    {
      "cell_type": "code",
      "source": [
        "def describe_mat (matrix): \n",
        "  is_square =True if matrix.shape[0]==matrix.shape[1] else False \n",
        "  print (f'Matrix:\\n{matrix}\\n\\nshape:\\t{matrix.shape}\\nRank:\\t{matrix.ndim}\\nIs Square:{is_square}\\n')\n"
      ],
      "metadata": {
        "id": "zD-kUHUh-Rwg"
      },
      "execution_count": null,
      "outputs": []
    },
    {
      "cell_type": "code",
      "source": [
        "sq_mat = np.array([\n",
        "                        [1,3,8],\n",
        "                        [5,4,7],\n",
        "                        [5,4,5]\n",
        "])\n",
        "nonsq_mat = np.array ([\n",
        "                        [4,5,6],\n",
        "                        [2,3,5]\n",
        "])\n",
        "describe_mat(sq_mat)\n",
        "describe_mat(nonsq_mat)"
      ],
      "metadata": {
        "colab": {
          "base_uri": "https://localhost:8080/"
        },
        "id": "SopmO-8i_F8k",
        "outputId": "dbedd507-b390-4341-a168-9a948489269b"
      },
      "execution_count": 8,
      "outputs": [
        {
          "output_type": "stream",
          "name": "stdout",
          "text": [
            "Matrix:\n",
            "[[1 3 8]\n",
            " [5 4 7]\n",
            " [5 4 5]]\n",
            "\n",
            "Shape:\t(3, 3)\n",
            "Rank:\t2\n",
            "\n",
            "Matrix:\n",
            "[[4 5 6]\n",
            " [2 3 5]]\n",
            "\n",
            "Shape:\t(2, 3)\n",
            "Rank:\t2\n",
            "\n"
          ]
        }
      ]
    },
    {
      "cell_type": "code",
      "source": [
        "T= np.array([\n",
        "             [3,3,3],\n",
        "             [2,2,2],\n",
        "             [1,1,1]\n",
        "])\n",
        "T\n",
        "describe_mat(T)"
      ],
      "metadata": {
        "colab": {
          "base_uri": "https://localhost:8080/"
        },
        "id": "wAxIkSzDZtH2",
        "outputId": "35fcdeeb-d5ff-4321-bc00-dffe0fc93897"
      },
      "execution_count": 10,
      "outputs": [
        {
          "output_type": "stream",
          "name": "stdout",
          "text": [
            "Matrix:\n",
            "[[3 3 3]\n",
            " [2 2 2]\n",
            " [1 1 1]]\n",
            "\n",
            "Shape:\t(3, 3)\n",
            "Rank:\t2\n",
            "\n"
          ]
        }
      ]
    },
    {
      "cell_type": "code",
      "source": [
        "F= np.array([\n",
        "             [3,3,3],\n",
        "             [2,2,2]\n",
        "])\n",
        "F\n",
        "describe_mat(F)   "
      ],
      "metadata": {
        "colab": {
          "base_uri": "https://localhost:8080/"
        },
        "id": "rueoIzDuadpl",
        "outputId": "3af0a094-f60f-4e0c-b823-f5925beb65bb"
      },
      "execution_count": 12,
      "outputs": [
        {
          "output_type": "stream",
          "name": "stdout",
          "text": [
            "Matrix:\n",
            "[[3 3 3]\n",
            " [2 2 2]]\n",
            "\n",
            "Shape:\t(2, 3)\n",
            "Rank:\t2\n",
            "\n"
          ]
        }
      ]
    },
    {
      "cell_type": "markdown",
      "source": [
        "### According to element values"
      ],
      "metadata": {
        "id": "p_7MKF2Ua48e"
      }
    },
    {
      "cell_type": "markdown",
      "source": [
        "#### Null Matrix"
      ],
      "metadata": {
        "id": "ryJFeU3ja8Ee"
      }
    },
    {
      "cell_type": "markdown",
      "source": [
        "A Null Matrix is a matrix that has no elements. It is always a subspace of any vector or matrix."
      ],
      "metadata": {
        "id": "XHDML-sda-fZ"
      }
    },
    {
      "cell_type": "code",
      "source": [
        "def describe_mat (matrix):\n",
        "\n",
        "  if matrix.size > 0:\n",
        "    is_square = True if matrix.shape [0] == matrix.shape[1] else False\n",
        "    print(f'Matrix:\\n{matrix}\\n\\nShape:\\t{matrix.shape}\\nRank:\\t{matrix.ndim}\\nIs Square: {is_square}\\n') \n",
        "  else:\n",
        "    print('Null Matrix')"
      ],
      "metadata": {
        "id": "TsXgEyZUBfl5"
      },
      "execution_count": 15,
      "outputs": []
    },
    {
      "cell_type": "code",
      "source": [
        "n_mat = np.array ([])\n",
        "describe_mat(n_mat)"
      ],
      "metadata": {
        "colab": {
          "base_uri": "https://localhost:8080/"
        },
        "id": "kXgR4z5uBq71",
        "outputId": "fde4cc7b-b2a2-4d72-ceab-a07b68525033"
      },
      "execution_count": 16,
      "outputs": [
        {
          "output_type": "stream",
          "name": "stdout",
          "text": [
            "Null Matrix\n"
          ]
        }
      ]
    },
    {
      "cell_type": "markdown",
      "source": [
        "#### Zero Matrix"
      ],
      "metadata": {
        "id": "7mzV4uWxbR8X"
      }
    },
    {
      "cell_type": "markdown",
      "source": [
        "A zero matrix can be any rectangular matrix but with all elements having a value of 0."
      ],
      "metadata": {
        "id": "tcqhFC0xbavl"
      }
    },
    {
      "cell_type": "code",
      "source": [
        "zmr = np.zeros((1,2))\n",
        "zms = np.zeros((2,2))\n",
        "zrm = np.zeros((3,2))\n",
        "\n",
        "print(f' Zero Row Matix: \\n{zmr}')\n",
        "print(f' Zero Square Matrix: \\n{zms}')\n",
        "print(f' Zero Rectangular Matrix: \\n{zrm}')"
      ],
      "metadata": {
        "colab": {
          "base_uri": "https://localhost:8080/"
        },
        "id": "bk1MpRpKC4Dl",
        "outputId": "6a4ab5da-b435-4760-d0bd-4015e91c7b27"
      },
      "execution_count": 17,
      "outputs": [
        {
          "output_type": "stream",
          "name": "stdout",
          "text": [
            " Zero Row Matix: \n",
            "[[0. 0.]]\n",
            " Zero Square Matrix: \n",
            "[[0. 0.]\n",
            " [0. 0.]]\n",
            " Zero Rectangular Matrix: \n",
            "[[0. 0.]\n",
            " [0. 0.]\n",
            " [0. 0.]]\n"
          ]
        }
      ]
    },
    {
      "cell_type": "markdown",
      "source": [
        "####  Ones Matrix"
      ],
      "metadata": {
        "id": "lVyvb3aXcNj4"
      }
    },
    {
      "cell_type": "markdown",
      "source": [
        "A ones matrix, just like the zero matrix, can be any rectangular matrix but all of its elements are 1s instead of 0s."
      ],
      "metadata": {
        "id": "nPp3HE0xcOy4"
      }
    },
    {
      "cell_type": "code",
      "source": [
        "omr = np.ones((1,2))\n",
        "oms = np.ones((2,2))\n",
        "omrc = np.ones((3,2))\n",
        "\n",
        "print(f' Ones Row Matix: \\n{omr}')\n",
        "print(f' Ones Square Matrix: \\n{oms}')\n",
        "print(f' Ones Rectangular Matrix: \\n{omrc}')"
      ],
      "metadata": {
        "colab": {
          "base_uri": "https://localhost:8080/"
        },
        "id": "TQqRl4fXEASB",
        "outputId": "ae5ace68-2509-479d-8ccb-2440985b9110"
      },
      "execution_count": 19,
      "outputs": [
        {
          "output_type": "stream",
          "name": "stdout",
          "text": [
            " Ones Row Matix: \n",
            "[[1. 1.]]\n",
            " Ones Square Matrix: \n",
            "[[1. 1.]\n",
            " [1. 1.]]\n",
            " Ones Rectangular Matrix: \n",
            "[[1. 1.]\n",
            " [1. 1.]\n",
            " [1. 1.]]\n"
          ]
        }
      ]
    },
    {
      "cell_type": "markdown",
      "source": [
        "#### Diagonal Matrix"
      ],
      "metadata": {
        "id": "rZRPGx6UcZHD"
      }
    },
    {
      "cell_type": "markdown",
      "source": [
        "A diagonal matrix is a square matrix that has values only at the diagonal of the matrix."
      ],
      "metadata": {
        "id": "6LUYPMk7cbdY"
      }
    },
    {
      "cell_type": "code",
      "source": [
        "# Diagonal Matrix\n",
        "np.array([\n",
        "  [2,0,0],\n",
        "  [0,3,0],\n",
        "  [0,0,5]\n",
        "])\n",
        "\n",
        "# a[1,1], a[2,2], a[3,3], ... a[n-1,-1]"
      ],
      "metadata": {
        "colab": {
          "base_uri": "https://localhost:8080/"
        },
        "id": "GjG2DkUvFTbb",
        "outputId": "6d21eddd-9a83-4804-e020-76b121603160"
      },
      "execution_count": null,
      "outputs": [
        {
          "output_type": "execute_result",
          "data": {
            "text/plain": [
              "array([[2, 0, 0],\n",
              "       [0, 3, 0],\n",
              "       [0, 0, 5]])"
            ]
          },
          "metadata": {},
          "execution_count": 48
        }
      ]
    },
    {
      "cell_type": "code",
      "source": [
        "d = np.diag([2,9,16,27]) \n",
        "#np.diag(d).shape == d.shape [0] I d.shape[1]\n",
        "d\n",
        "\n"
      ],
      "metadata": {
        "colab": {
          "base_uri": "https://localhost:8080/"
        },
        "id": "H8Tp1MM3FDzg",
        "outputId": "d15f3c0e-a984-4023-d2c5-81483a18d1cc"
      },
      "execution_count": 21,
      "outputs": [
        {
          "output_type": "execute_result",
          "data": {
            "text/plain": [
              "array([[ 2,  0,  0,  0],\n",
              "       [ 0,  9,  0,  0],\n",
              "       [ 0,  0, 16,  0],\n",
              "       [ 0,  0,  0, 27]])"
            ]
          },
          "metadata": {},
          "execution_count": 21
        }
      ]
    },
    {
      "cell_type": "markdown",
      "source": [
        "#### Identity Matrix"
      ],
      "metadata": {
        "id": "fopGOX7ecuRi"
      }
    },
    {
      "cell_type": "markdown",
      "source": [
        "An identity matrix is a special diagonal matrix in which the values at the diagonal are ones."
      ],
      "metadata": {
        "id": "gGs4bxxNcx6A"
      }
    },
    {
      "cell_type": "code",
      "source": [
        "np.eye(6)"
      ],
      "metadata": {
        "colab": {
          "base_uri": "https://localhost:8080/"
        },
        "id": "mtZuRz77GEaO",
        "outputId": "56f9946b-45ba-41b0-d952-db4c8b160918"
      },
      "execution_count": null,
      "outputs": [
        {
          "output_type": "execute_result",
          "data": {
            "text/plain": [
              "array([[1., 0., 0., 0., 0., 0.],\n",
              "       [0., 1., 0., 0., 0., 0.],\n",
              "       [0., 0., 1., 0., 0., 0.],\n",
              "       [0., 0., 0., 1., 0., 0.],\n",
              "       [0., 0., 0., 0., 1., 0.],\n",
              "       [0., 0., 0., 0., 0., 1.]])"
            ]
          },
          "metadata": {},
          "execution_count": 49
        }
      ]
    },
    {
      "cell_type": "code",
      "source": [
        "np.identity(3)"
      ],
      "metadata": {
        "colab": {
          "base_uri": "https://localhost:8080/"
        },
        "id": "GIHToztmGIkY",
        "outputId": "24c01539-1b82-48dd-e740-d810cb98c3e9"
      },
      "execution_count": 22,
      "outputs": [
        {
          "output_type": "execute_result",
          "data": {
            "text/plain": [
              "array([[1., 0., 0.],\n",
              "       [0., 1., 0.],\n",
              "       [0., 0., 1.]])"
            ]
          },
          "metadata": {},
          "execution_count": 22
        }
      ]
    },
    {
      "cell_type": "markdown",
      "source": [
        "###Upper triangular matrix"
      ],
      "metadata": {
        "id": "EY8VSKG_HBMB"
      }
    },
    {
      "cell_type": "markdown",
      "source": [
        "An upper triangular matrix is a matrix that has no values below the diagonal."
      ],
      "metadata": {
        "id": "YOphmAyPc-aP"
      }
    },
    {
      "cell_type": "code",
      "source": [
        "np.array([\n",
        "\n",
        "[1,2,3,4],\n",
        "[0,3,1,-1],\n",
        "[0,0,5,2],\n",
        "[0,0,0,2]\n",
        "\n",
        "])"
      ],
      "metadata": {
        "colab": {
          "base_uri": "https://localhost:8080/"
        },
        "id": "YC7ziWu3G2k_",
        "outputId": "de235946-c41e-42dd-c3e2-a90e67352621"
      },
      "execution_count": null,
      "outputs": [
        {
          "output_type": "execute_result",
          "data": {
            "text/plain": [
              "array([[ 1,  2,  3,  4],\n",
              "       [ 0,  3,  1, -1],\n",
              "       [ 0,  0,  5,  2],\n",
              "       [ 0,  0,  0,  2]])"
            ]
          },
          "metadata": {},
          "execution_count": 51
        }
      ]
    },
    {
      "cell_type": "markdown",
      "source": [
        "###Lower triangular matrix"
      ],
      "metadata": {
        "id": "GsrVBsk-HHW1"
      }
    },
    {
      "cell_type": "markdown",
      "source": [
        "A lower triangular matrix is a matrix that has no values above the diagonal."
      ],
      "metadata": {
        "id": "trbbWKMFdN4I"
      }
    },
    {
      "cell_type": "code",
      "source": [
        "np. array([\n",
        "  [1, 0, 0, 0],\n",
        "  [7, 8, 0, 0],\n",
        "  [10, 9, 8, 0],\n",
        "  [9, 8, 5, 4]\n",
        "])"
      ],
      "metadata": {
        "colab": {
          "base_uri": "https://localhost:8080/"
        },
        "id": "p1ipkdCydQ43",
        "outputId": "2ede785b-ba25-4dc7-b2b3-736db0dcd87b"
      },
      "execution_count": 23,
      "outputs": [
        {
          "output_type": "execute_result",
          "data": {
            "text/plain": [
              "array([[ 1,  0,  0,  0],\n",
              "       [ 7,  8,  0,  0],\n",
              "       [10,  9,  8,  0],\n",
              "       [ 9,  8,  5,  4]])"
            ]
          },
          "metadata": {},
          "execution_count": 23
        }
      ]
    },
    {
      "cell_type": "markdown",
      "source": [
        "##Practice"
      ],
      "metadata": {
        "id": "Yyz0LBNXUtkR"
      }
    },
    {
      "cell_type": "markdown",
      "source": [
        "1 Given the linear combination below, try to create a corresponding matrix representing it.\n"
      ],
      "metadata": {
        "id": "9_x-ni9BH6Ai"
      }
    },
    {
      "cell_type": "markdown",
      "source": [
        ":$$\\theta = 5x + 3y - z$$"
      ],
      "metadata": {
        "id": "w5PG-RB0U0q1"
      }
    },
    {
      "cell_type": "markdown",
      "source": [
        ":$$\n",
        "θ=\\begin{bmatrix} 5 & 3 &-1\\end{bmatrix} \\\\\n",
        "$$"
      ],
      "metadata": {
        "id": "rH_HKSkPVldc"
      }
    },
    {
      "cell_type": "code",
      "source": [
        "θ = np.array([\n",
        "    [5,3,-1]\n",
        "])\n",
        "θ"
      ],
      "metadata": {
        "colab": {
          "base_uri": "https://localhost:8080/"
        },
        "id": "GglHdwlkXUqf",
        "outputId": "096dff7a-69b7-4266-f299-ece6f5d8b386"
      },
      "execution_count": null,
      "outputs": [
        {
          "output_type": "execute_result",
          "data": {
            "text/plain": [
              "array([[ 5,  3, -1]])"
            ]
          },
          "metadata": {},
          "execution_count": 8
        }
      ]
    },
    {
      "cell_type": "markdown",
      "source": [
        "2. Given the system of linear combinations below, try to encode it as a matrix. Also describe the matrix.\n"
      ],
      "metadata": {
        "id": "V_cB8tXqH3sB"
      }
    },
    {
      "cell_type": "markdown",
      "source": [
        "$$\n",
        "A = \\left\\{\\begin{array}\n",
        "5x_1 + 2x_2 +x_3\\\\\n",
        "4x_2 - x_3\\\\\n",
        "10x_3\n",
        "\\end{array}\\right.\n",
        "$$\n"
      ],
      "metadata": {
        "id": "XUMeKheTIwwV"
      }
    },
    {
      "cell_type": "code",
      "source": [
        "import numpy as np\n",
        "import matplotlib.pyplot as plt\n",
        "import scipy.linalg as la\n",
        "%matplotlib inline"
      ],
      "metadata": {
        "id": "DCYRwsRGXpc2"
      },
      "execution_count": null,
      "outputs": []
    },
    {
      "cell_type": "code",
      "source": [
        "def describe_mat(matrix):\n",
        "    print(f'Matrix:\\n{matrix}\\n\\nShape:\\t{matrix.shape}\\nRank:\\t{matrix.ndim}\\n')"
      ],
      "metadata": {
        "id": "KiWkdPbeY_lP"
      },
      "execution_count": null,
      "outputs": []
    },
    {
      "cell_type": "code",
      "source": [
        "A= np.array ([\n",
        "              [1,2,1],\n",
        "              [0,4,-3],\n",
        "              [0,0,10]\n",
        "])\n",
        "A\n",
        "describe_mat(A)"
      ],
      "metadata": {
        "colab": {
          "base_uri": "https://localhost:8080/"
        },
        "id": "FJLDKSGoYEE9",
        "outputId": "45d6b2ee-c385-4ca1-ecb1-3949c046f35e"
      },
      "execution_count": null,
      "outputs": [
        {
          "output_type": "stream",
          "name": "stdout",
          "text": [
            "Matrix:\n",
            "[[ 1  2  1]\n",
            " [ 0  4 -3]\n",
            " [ 0  0 10]]\n",
            "\n",
            "Shape:\t(3, 3)\n",
            "Rank:\t2\n",
            "\n"
          ]
        }
      ]
    },
    {
      "cell_type": "markdown",
      "source": [
        "Matrix A is an upper triangular matrix"
      ],
      "metadata": {
        "id": "oeGY-3pJZgdn"
      }
    },
    {
      "cell_type": "markdown",
      "source": [
        "3. Given the matrix below, express it as a linear combination in a markdown and a LaTeX markdown\n"
      ],
      "metadata": {
        "id": "g8WQOHWpIzON"
      }
    },
    {
      "cell_type": "code",
      "source": [
        "G = np.array([\n",
        "    [1,7,8],\n",
        "    [2,2,2],\n",
        "    [4,6,7]\n",
        "])\n"
      ],
      "metadata": {
        "id": "J8FNc9TrJe80"
      },
      "execution_count": null,
      "outputs": []
    },
    {
      "cell_type": "markdown",
      "source": [
        ":$$\n",
        "G=\\begin{bmatrix} 1 & 7 & 8 \\\\ 2 & 2 & 2 \\\\ 4 & 6 & 7 \\end{bmatrix} \n",
        "$$"
      ],
      "metadata": {
        "id": "IbYqxkiybvZa"
      }
    },
    {
      "cell_type": "markdown",
      "source": [
        "$$\n",
        "G = \\left\\{\\begin{array}\n",
        "1x_1 + 7x_2 +8x_3\\\\\n",
        "2x_1+2x_2 - 2x_3\\\\\n",
        "4x_1 + 6x_2 + 7x_3\n",
        "\\end{array}\\right.\n",
        "$$"
      ],
      "metadata": {
        "id": "L2S4zfzxZv4g"
      }
    },
    {
      "cell_type": "markdown",
      "source": [
        "4. Given the matrix below, display the output as a LaTeX markdown also express it as a system of linear combinations.\n"
      ],
      "metadata": {
        "id": "qLRKRL5TJiC1"
      }
    },
    {
      "cell_type": "code",
      "source": [
        "H = np.tril(G)\n",
        "H"
      ],
      "metadata": {
        "colab": {
          "base_uri": "https://localhost:8080/"
        },
        "id": "B0gQRwLdbOM3",
        "outputId": "824eeb06-e836-4e6e-e479-71aed119cbe4"
      },
      "execution_count": null,
      "outputs": [
        {
          "output_type": "execute_result",
          "data": {
            "text/plain": [
              "array([[1, 0, 0],\n",
              "       [2, 2, 0],\n",
              "       [4, 6, 7]])"
            ]
          },
          "metadata": {},
          "execution_count": 14
        }
      ]
    },
    {
      "cell_type": "markdown",
      "source": [
        ":$$\n",
        "H=\\begin{bmatrix} 1 & 0 & 0 \\\\ 2 & 2 & 0 \\\\ 4 & 6 & 7 \\end{bmatrix} \n",
        "$$"
      ],
      "metadata": {
        "id": "z1yzp1VBa620"
      }
    },
    {
      "cell_type": "markdown",
      "source": [
        "$$\n",
        "H = \\left\\{\\begin{array}\n",
        "1x_1  \\\\\n",
        "2x_1+2x_2 \\\\\n",
        "4x_1 + 6x_2 + 7x_3\n",
        "\\end{array}\\right.\n",
        "$$"
      ],
      "metadata": {
        "id": "UvdCHuf0cl0A"
      }
    },
    {
      "cell_type": "markdown",
      "source": [
        "## Matrix Algebra"
      ],
      "metadata": {
        "id": "uINlPlledah5"
      }
    },
    {
      "cell_type": "markdown",
      "source": [
        "### Addition"
      ],
      "metadata": {
        "id": "CtNHXbKqdc3M"
      }
    },
    {
      "cell_type": "code",
      "source": [
        "Jgio = np.array([\n",
        "    [0, 9],\n",
        "    [0, 8],\n",
        "    [0, 1]\n",
        "])\n",
        "RO = np.array([\n",
        "    [1, 0],\n",
        "    [0, 8],\n",
        "    [0, 2]\n",
        "])\n",
        "Jgio+RO"
      ],
      "metadata": {
        "colab": {
          "base_uri": "https://localhost:8080/"
        },
        "id": "UmQ1YC65dlKS",
        "outputId": "0473113d-f4c3-4826-a884-a3c0a86c8166"
      },
      "execution_count": 28,
      "outputs": [
        {
          "output_type": "execute_result",
          "data": {
            "text/plain": [
              "array([[ 1,  9],\n",
              "       [ 0, 16],\n",
              "       [ 0,  3]])"
            ]
          },
          "metadata": {},
          "execution_count": 28
        }
      ]
    },
    {
      "cell_type": "code",
      "source": [
        "3+Jgio "
      ],
      "metadata": {
        "colab": {
          "base_uri": "https://localhost:8080/"
        },
        "id": "yQPnmrkrdu6s",
        "outputId": "66b345b5-1beb-4d6e-c7fe-e4d045be8b49"
      },
      "execution_count": 29,
      "outputs": [
        {
          "output_type": "execute_result",
          "data": {
            "text/plain": [
              "array([[ 3, 12],\n",
              "       [ 3, 11],\n",
              "       [ 3,  4]])"
            ]
          },
          "metadata": {},
          "execution_count": 29
        }
      ]
    },
    {
      "cell_type": "markdown",
      "source": [
        "###Subtraction"
      ],
      "metadata": {
        "id": "lfbmF_Ckdx-z"
      }
    },
    {
      "cell_type": "code",
      "source": [
        "RO - Jgio"
      ],
      "metadata": {
        "colab": {
          "base_uri": "https://localhost:8080/"
        },
        "id": "RY9zzZTud1dN",
        "outputId": "39d559b6-750f-457e-bf74-a282c03e235f"
      },
      "execution_count": 30,
      "outputs": [
        {
          "output_type": "execute_result",
          "data": {
            "text/plain": [
              "array([[ 1, -9],\n",
              "       [ 0,  0],\n",
              "       [ 0,  1]])"
            ]
          },
          "metadata": {},
          "execution_count": 30
        }
      ]
    },
    {
      "cell_type": "code",
      "source": [
        "5-RO"
      ],
      "metadata": {
        "colab": {
          "base_uri": "https://localhost:8080/"
        },
        "id": "xfG0uUpid5Is",
        "outputId": "c7f0a664-ae00-4ef0-fda6-f6ffc11c93fa"
      },
      "execution_count": 31,
      "outputs": [
        {
          "output_type": "execute_result",
          "data": {
            "text/plain": [
              "array([[ 4,  5],\n",
              "       [ 5, -3],\n",
              "       [ 5,  3]])"
            ]
          },
          "metadata": {},
          "execution_count": 31
        }
      ]
    },
    {
      "cell_type": "markdown",
      "source": [
        "### Element-Wise Multiplication"
      ],
      "metadata": {
        "id": "b5jmJAa1d7zv"
      }
    },
    {
      "cell_type": "code",
      "source": [
        "Jgio*RO\n",
        "np.multiply(Jgio,RO)"
      ],
      "metadata": {
        "colab": {
          "base_uri": "https://localhost:8080/"
        },
        "id": "f05c0VwTeBVv",
        "outputId": "9f44e963-de41-4fb3-dfc2-e517d8751ac3"
      },
      "execution_count": 32,
      "outputs": [
        {
          "output_type": "execute_result",
          "data": {
            "text/plain": [
              "array([[ 0,  0],\n",
              "       [ 0, 64],\n",
              "       [ 0,  2]])"
            ]
          },
          "metadata": {},
          "execution_count": 32
        }
      ]
    },
    {
      "cell_type": "code",
      "source": [
        "45*RO"
      ],
      "metadata": {
        "colab": {
          "base_uri": "https://localhost:8080/"
        },
        "id": "LfIMt6oqeLqO",
        "outputId": "7b36695e-ec66-4a74-ac98-7d4c47712c3c"
      },
      "execution_count": 33,
      "outputs": [
        {
          "output_type": "execute_result",
          "data": {
            "text/plain": [
              "array([[ 45,   0],\n",
              "       [  0, 360],\n",
              "       [  0,  90]])"
            ]
          },
          "metadata": {},
          "execution_count": 33
        }
      ]
    },
    {
      "cell_type": "code",
      "source": [
        "alpha=10**-10\n",
        "Jgio/(alpha+RO)"
      ],
      "metadata": {
        "colab": {
          "base_uri": "https://localhost:8080/"
        },
        "id": "aowTLVC4ePm7",
        "outputId": "4c75d64d-75c7-48ca-b917-e8b04c109435"
      },
      "execution_count": 34,
      "outputs": [
        {
          "output_type": "execute_result",
          "data": {
            "text/plain": [
              "array([[0.e+00, 9.e+10],\n",
              "       [0.e+00, 1.e+00],\n",
              "       [0.e+00, 5.e-01]])"
            ]
          },
          "metadata": {},
          "execution_count": 34
        }
      ]
    },
    {
      "cell_type": "code",
      "source": [
        "np.add(RO,Jgio)"
      ],
      "metadata": {
        "colab": {
          "base_uri": "https://localhost:8080/"
        },
        "id": "3VkPK1rReVtN",
        "outputId": "25399b2c-9146-46b5-ca40-e6126c9c6906"
      },
      "execution_count": 35,
      "outputs": [
        {
          "output_type": "execute_result",
          "data": {
            "text/plain": [
              "array([[ 1,  9],\n",
              "       [ 0, 16],\n",
              "       [ 0,  3]])"
            ]
          },
          "metadata": {},
          "execution_count": 35
        }
      ]
    },
    {
      "cell_type": "markdown",
      "source": [
        "### Activity"
      ],
      "metadata": {
        "id": "yR4YtoJzeYIh"
      }
    },
    {
      "cell_type": "markdown",
      "source": [
        "####Task 1"
      ],
      "metadata": {
        "id": "PzGCh7cZdB_R"
      }
    },
    {
      "cell_type": "markdown",
      "source": [
        "Create a function named `mat_desc()` that througouhly describes a matrix, it should: <br>\n",
        "1. Displays the shape, size, and rank of the matrix. <br>\n",
        "2. Displays whether the matrix is square or non-square. <br>\n",
        "3. Displays whether the matrix is an empty matrix. <br>\n",
        "4. Displays if the matrix is an identity, ones, or zeros matrix <br>\n",
        "   \n",
        "Use 3 sample matrices in which their shapes are not lower than $(3,3)$.\n",
        "In your methodology, create a flowchart discuss the functions and methods you have done. Present your results in the results section showing the description of each matrix you have declared."
      ],
      "metadata": {
        "id": "NXy1If5DdXIu"
      }
    },
    {
      "cell_type": "code",
      "source": [
        "## Function area\n",
        "import numpy as np\n",
        "import matplotlib.pyplot as plt\n",
        "import scipy.linalg as la\n",
        "%matplotlib inline\n",
        "def mat_desc (matrix):\n",
        "  if matrix.size > 0:\n",
        "    if matrix.shape [0] == matrix.shape[1]:\n",
        "      s = \"Square.\"\n",
        "    else:\n",
        "      s = \"Non-square.\"\n",
        "    if np.all(matrix == np.identity(matrix.shape[0])):\n",
        "      sp = \"Identity Matrix.\"\n",
        "    elif np.all(matrix == np.zeros(matrix.shape)):\n",
        "      sp = \"Zero Matrix.\"\n",
        "    elif np.all(matrix == np.ones(matrix.shape)):\n",
        "      sp = \"Ones Matrix.\"\n",
        "    else:\n",
        "      sp = \"None.\"\n",
        "    print(f'Matrix:\\n{matrix}\\n\\nShape:\\t{matrix.shape}\\nRank:\\t{matrix.ndim}\\nSquare?: {s}\\nSpecial Characteristics: {sp}') \n",
        "  else:\n",
        "    print('Matrix is Empty')\n",
        "      "
      ],
      "metadata": {
        "id": "QueDe0v7dz-3"
      },
      "execution_count": 37,
      "outputs": []
    },
    {
      "cell_type": "code",
      "source": [
        "## Matrix declarations\n",
        "hi = np.array([\n",
        "    [3,1,2,4],\n",
        "    [4,7,9,6],\n",
        "    [9,1,6,7]\n",
        "])\n",
        "one = np.array([\n",
        "    [1,1,1,1,1],\n",
        "    [1,1,1,1,1],\n",
        "    [1,1,1,1,1],\n",
        "    [1,1,1,1,1],\n",
        "])\n",
        "id = np.array([\n",
        "    [1,0,0,0],\n",
        "    [0,1,0,0],\n",
        "    [0,0,1,0],\n",
        "    [0,0,0,1]\n",
        "])"
      ],
      "metadata": {
        "id": "MoQVMriQSZEt"
      },
      "execution_count": 38,
      "outputs": []
    },
    {
      "cell_type": "code",
      "source": [
        "## Test Areas"
      ],
      "metadata": {
        "id": "m4PKihqQfoxU"
      },
      "execution_count": null,
      "outputs": []
    },
    {
      "cell_type": "code",
      "source": [
        "mat_desc(hi)"
      ],
      "metadata": {
        "colab": {
          "base_uri": "https://localhost:8080/"
        },
        "id": "wR44QfFPe6VJ",
        "outputId": "1fabb4c5-5ca0-4832-bc88-fae31a22cd21"
      },
      "execution_count": 39,
      "outputs": [
        {
          "output_type": "stream",
          "name": "stdout",
          "text": [
            "Matrix:\n",
            "[[3 1 2 4]\n",
            " [4 7 9 6]\n",
            " [9 1 6 7]]\n",
            "\n",
            "Shape:\t(3, 4)\n",
            "Rank:\t2\n",
            "Square?: Non-square.\n",
            "Special Characteristics: None.\n"
          ]
        },
        {
          "output_type": "stream",
          "name": "stderr",
          "text": [
            "/usr/local/lib/python3.7/dist-packages/ipykernel_launcher.py:12: DeprecationWarning: elementwise comparison failed; this will raise an error in the future.\n",
            "  if sys.path[0] == '':\n"
          ]
        }
      ]
    },
    {
      "cell_type": "code",
      "source": [
        "mat_desc(one)"
      ],
      "metadata": {
        "colab": {
          "base_uri": "https://localhost:8080/"
        },
        "id": "jdTJwsq6e848",
        "outputId": "23bb138d-25cf-4587-8c71-3e9b04bb9083"
      },
      "execution_count": 40,
      "outputs": [
        {
          "output_type": "stream",
          "name": "stdout",
          "text": [
            "Matrix:\n",
            "[[1 1 1 1 1]\n",
            " [1 1 1 1 1]\n",
            " [1 1 1 1 1]\n",
            " [1 1 1 1 1]]\n",
            "\n",
            "Shape:\t(4, 5)\n",
            "Rank:\t2\n",
            "Square?: Non-square.\n",
            "Special Characteristics: Ones Matrix.\n"
          ]
        },
        {
          "output_type": "stream",
          "name": "stderr",
          "text": [
            "/usr/local/lib/python3.7/dist-packages/ipykernel_launcher.py:12: DeprecationWarning: elementwise comparison failed; this will raise an error in the future.\n",
            "  if sys.path[0] == '':\n"
          ]
        }
      ]
    },
    {
      "cell_type": "code",
      "source": [
        "mat_desc(id)"
      ],
      "metadata": {
        "colab": {
          "base_uri": "https://localhost:8080/"
        },
        "id": "ad1ZdEN9e_F1",
        "outputId": "931fa70c-8103-4076-e8b3-da9f67f8a207"
      },
      "execution_count": 41,
      "outputs": [
        {
          "output_type": "stream",
          "name": "stdout",
          "text": [
            "Matrix:\n",
            "[[1 0 0 0]\n",
            " [0 1 0 0]\n",
            " [0 0 1 0]\n",
            " [0 0 0 1]]\n",
            "\n",
            "Shape:\t(4, 4)\n",
            "Rank:\t2\n",
            "Square?: Square.\n",
            "Special Characteristics: Identity Matrix.\n"
          ]
        }
      ]
    },
    {
      "cell_type": "markdown",
      "source": [
        "#### Task 2"
      ],
      "metadata": {
        "id": "rmTVGt0rfBL9"
      }
    },
    {
      "cell_type": "markdown",
      "source": [
        "Create a function named `mat_operations()` that takes in two matrices and input parameters it should:<br>\n",
        " 1. Determine if the matrices are viable for operation and returns your own error message if they are not viable.\n",
        " 2. Returns the sum of the matrices.\n",
        " 3. Returns the difference of the matrices.\n",
        " 4. Returns the element-wise multiplication of the matrices.\n",
        " 5. Returns the element-wise division of the matrices.\n",
        "\n",
        "Use 3 sample matrices in which their shapes are not lower than $(3,3)$.\n",
        "In your methodology, create a flowchart discuss the functions and methods you have done. Present your results in the results section showing the description of each matrix you have declared."
      ],
      "metadata": {
        "id": "-JA81kBwfDpY"
      }
    },
    {
      "cell_type": "code",
      "source": [
        "# Function Area\n",
        "import numpy as np\n",
        "import matplotlib.pyplot as plt\n",
        "import scipy.linalg as la\n",
        "%matplotlib inline\n",
        "def mat_operations(matA, matB):\n",
        "  op = input(\"Enter operation(+,-,*,/): \")\n",
        "  if matA.shape == matB.shape:\n",
        "    # proceed to operations\n",
        "    if op == '+':\n",
        "      return matA + matB\n",
        "    elif op == '-':\n",
        "      return matA - matB\n",
        "    elif op == '*':\n",
        "      return matA * matB\n",
        "    elif op == '/':\n",
        "      return matA / matB\n",
        "    else:\n",
        "      print(\"The matrices are viable but you have not inputted a correct operation.\")\n",
        "  else:\n",
        "    print(\"Huhuhu.The matrices are not viable.\")"
      ],
      "metadata": {
        "id": "Vd9pqnfZfIBo"
      },
      "execution_count": 42,
      "outputs": []
    },
    {
      "cell_type": "code",
      "source": [
        "#matrix declarations\n",
        "A = np.array([\n",
        "    [1,1,1,1],\n",
        "    [1,1,1,1],  \n",
        "    [1,1,1,1],\n",
        "    [1,1,1,1]\n",
        "])\n",
        "B = np.array([\n",
        "    [2,2,2,2],\n",
        "    [2,2,2,2],\n",
        "    [2,2,2,2],\n",
        "    [2,2,2,2],\n",
        "])\n",
        "C = np.array([\n",
        "    [3,3,3,3,3],\n",
        "    [3,3,3,3,3],\n",
        "    [3,3,3,3,3]\n",
        "])\n",
        "D = np.array([\n",
        "    [4,4,4,4,4],\n",
        "    [4,4,4,4,4],\n",
        "    [4,4,4,4,4]\n",
        "])"
      ],
      "metadata": {
        "id": "FzfIubjsfPOs"
      },
      "execution_count": 43,
      "outputs": []
    },
    {
      "cell_type": "code",
      "source": [
        "mat_operations(A,C)"
      ],
      "metadata": {
        "colab": {
          "base_uri": "https://localhost:8080/"
        },
        "id": "Qqgz925JfSuN",
        "outputId": "cb08d291-2219-468b-bc83-13e7e543eac6"
      },
      "execution_count": 44,
      "outputs": [
        {
          "output_type": "stream",
          "name": "stdout",
          "text": [
            "Enter operation(+,-,*,/): /\n",
            "Huhuhu.The matrices are not viable.\n"
          ]
        }
      ]
    },
    {
      "cell_type": "code",
      "source": [
        "mat_operations(D, C)"
      ],
      "metadata": {
        "colab": {
          "base_uri": "https://localhost:8080/"
        },
        "id": "Z3GD5bTkfY2M",
        "outputId": "2055e541-d879-48b5-ae35-ff0163204789"
      },
      "execution_count": 45,
      "outputs": [
        {
          "name": "stdout",
          "output_type": "stream",
          "text": [
            "Enter operation(+,-,*,/): /\n"
          ]
        },
        {
          "output_type": "execute_result",
          "data": {
            "text/plain": [
              "array([[1.33333333, 1.33333333, 1.33333333, 1.33333333, 1.33333333],\n",
              "       [1.33333333, 1.33333333, 1.33333333, 1.33333333, 1.33333333],\n",
              "       [1.33333333, 1.33333333, 1.33333333, 1.33333333, 1.33333333]])"
            ]
          },
          "metadata": {},
          "execution_count": 45
        }
      ]
    },
    {
      "cell_type": "code",
      "source": [
        "mat_operations(A,B)"
      ],
      "metadata": {
        "colab": {
          "base_uri": "https://localhost:8080/"
        },
        "id": "xv2wv7NFfcB9",
        "outputId": "308ba9c5-126e-4e1e-e792-bd96e4dab784"
      },
      "execution_count": 46,
      "outputs": [
        {
          "name": "stdout",
          "output_type": "stream",
          "text": [
            "Enter operation(+,-,*,/): -\n"
          ]
        },
        {
          "output_type": "execute_result",
          "data": {
            "text/plain": [
              "array([[-1, -1, -1, -1],\n",
              "       [-1, -1, -1, -1],\n",
              "       [-1, -1, -1, -1],\n",
              "       [-1, -1, -1, -1]])"
            ]
          },
          "metadata": {},
          "execution_count": 46
        }
      ]
    },
    {
      "cell_type": "markdown",
      "source": [
        "### Conclusion"
      ],
      "metadata": {
        "id": "Z63vZwt9fg7L"
      }
    },
    {
      "cell_type": "markdown",
      "source": [
        "For your conclusion synthesize the concept and application of the laboratory. Briefly discuss what you have learned and achieved in this activity. Also answer the question: \"How can matrix operations solve problems in technology?\"."
      ],
      "metadata": {
        "id": "cU0wnNs4fj6N"
      }
    }
  ]
}